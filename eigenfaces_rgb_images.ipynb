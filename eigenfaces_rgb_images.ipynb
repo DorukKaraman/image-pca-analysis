{
  "nbformat": 4,
  "nbformat_minor": 5,
  "metadata": {
    "kernelspec": {
      "name": "python3",
      "display_name": "Python 3"
    },
    "language_info": {
      "name": "python"
    },
    "title": "Eigenfaces Analysis on RGB Images using Channel-wise PCA"
  },
  "cells": [
    {
      "cell_type": "markdown",
      "source": [
        "# Eigenfaces Analysis on RGB Images using Channel-wise PCA\n",
        "\n",
        "This notebook demonstrates how to perform **Principal Component Analysis (PCA)** on a dataset of color images to derive the **Eigenfaces** (or Eigenimages). Unlike standard PCA on grayscale images, this approach applies PCA separately to the Red, Green, and Blue channels before combining the resulting principal components for visualization."
      ]
    },
    {
      "cell_type": "markdown",
      "source": [
        "## 1. Setup and Configuration"
      ]
    },
    {
      "cell_type": "code",
      "execution_count": null,
      "metadata": {},
      "outputs": [],
      "source": [
        "import numpy as np\n",
        "import glob\n",
        "from PIL import Image\n",
        "from matplotlib import pyplot as plt\n",
        "from sklearn.decomposition import PCA\n",
        "\n",
        "# --- Configuration ---\n",
        "# Update this path to your image directory. The repo structure assumes 'data/images/'.\n",
        "IMAGE_PATH = 'data/images/*.jpg'\n",
        "RESIZE_DIM = (64, 64)  # Image size (width, height)\n",
        "N_COMPONENTS = 50      # Number of principal components to keep for analysis/reconstruction\n",
        "N_EIGENFACES_TO_PLOT = 10 # Number of Eigenfaces to visualize"
      ]
    },
    {
      "cell_type": "markdown",
      "source": [
        "## 2. Data Loading and Preprocessing\n",
        "\n",
        "Images are loaded, resized, and flattened. The RGB channels are then separated to prepare for independent PCA."
      ]
    },
    {
      "cell_type": "code",
      "execution_count": null,
      "metadata": {},
      "outputs": [],
      "source": [
        "def load_and_preprocess_images(path, dim):\n",
        "    \"\"\"Loads, resizes images, and separates the RGB channels.\"\"\"\n",
        "    try:\n",
        "        # Load and resize all images (using a standard path placeholder)\n",
        "        image_files = glob.glob(path)\n",
        "        if not image_files:\n",
        "             raise FileNotFoundError(f\"No images found at the path: {path}. Check your data setup.\")\n",
        "            \n",
        "        input_images = [Image.open(file).convert('RGB').resize(dim, Image.Resampling.BILINEAR) for file in image_files]\n",
        "        \n",
        "        # Convert images to a NumPy array\n",
        "        # The shape will be (N_images, 64, 64, 3)\n",
        "        input_images_array = np.array([np.asarray(i) for i in input_images])\n",
        "        \n",
        "        # Flatten each image into a feature vector per channel (64*64 = 4096 features)\n",
        "        # Shape: (N_images, Pixels, Channels) -> (N_images, 4096, 3)\n",
        "        n_images, h, w, c = input_images_array.shape\n",
        "        flat_images = input_images_array.reshape(n_images, h * w, c)\n",
        "        \n",
        "        # Separate channels: each matrix is (N_images, 4096)\n",
        "        red_channel_data = flat_images[:, :, 0].astype(np.float64)\n",
        "        green_channel_data = flat_images[:, :, 1].astype(np.float64)\n",
        "        blue_channel_data = flat_images[:, :, 2].astype(np.float64)\n",
        "        \n",
        "        print(f\"Loaded {n_images} images. Reshaped channel data to: (N_images, {h*w}).\")\n",
        "        return red_channel_data, green_channel_data, blue_channel_data, input_images_array\n",
        "        \n",
        "    except FileNotFoundError as e:\n",
        "        print(f\"ERROR: {e}\")\n",
        "        print(\"Please ensure you have created the `data/images/` directory and populated it with images.\")\n",
        "        return None, None, None, None\n",
        "\n",
        "R_data, G_data, B_data, original_images = load_and_preprocess_images(IMAGE_PATH, RESIZE_DIM)\n",
        "\n",
        "# Exit if data loading failed\n",
        "if R_data is None:\n",
        "    import sys; sys.exit()"
      ]
    },
    {
      "cell_type": "markdown",
      "source": [
        "## 3. Channel-wise PCA and Eigenface Calculation\n",
        "\n",
        "We use `sklearn.decomposition.PCA` for a robust implementation of PCA on each color channel independently. The principal components (eigenvectors) of the covariance matrix, when reshaped, form the Eigenfaces."
      ]
    },
    {
      "cell_type": "code",
      "execution_count": null,
      "metadata": {},
      "outputs": [],
      "source": [
        "def perform_channel_pca(data, n_components):\n",
        "    \"\"\"Fits PCA on the channel data and returns the model, components, and mean.\"\"\"\n",
        "    # Note: PCA in sklearn automatically centers the data\n",
        "    pca = PCA(n_components=n_components)\n",
        "    pca.fit(data)\n",
        "    \n",
        "    # components_ is the Eigenvector matrix (N_components, N_features)\n",
        "    # The transpose is often referred to as the Eigenfaces/Eigenvectors\n",
        "    return pca, pca.components_, pca.mean_\n",
        "\n",
        "# Run PCA for each channel\n",
        "pca_r, components_r, mean_r = perform_channel_pca(R_data, N_COMPONENTS)\n",
        "pca_g, components_g, mean_g = perform_channel_pca(G_data, N_COMPONENTS)\n",
        "pca_b, components_b, mean_b = perform_channel_pca(B_data, N_COMPONENTS)\n",
        "\n",
        "print(\"PCA completed for all three channels.\")"
      ]
    },
    {
      "cell_type": "markdown",
      "source": [
        "## 4. Explained Variance Analysis\n",
        "\n",
        "The explained variance ratio shows how much information (variance) is captured by each principal component. We check the cumulative variance captured by the top components."
      ]
    },
    {
      "cell_type": "code",
      "execution_count": null,
      "metadata": {},
      "outputs": [],
      "source": [
        "def plot_explained_variance(pca_r, pca_g, pca_b):\n",
        "    \"\"\"Plots the cumulative explained variance for all channels.\"\"\"\n",
        "    plt.figure(figsize=(10, 6))\n",
        "    \n",
        "    # Calculate cumulative variance\n",
        "    cum_r = np.cumsum(pca_r.explained_variance_ratio_)\n",
        "    cum_g = np.cumsum(pca_g.explained_variance_ratio_)\n",
        "    cum_b = np.cumsum(pca_b.explained_variance_ratio_)\n",
        "    \n",
        "    plt.plot(range(1, N_COMPONENTS + 1), cum_r, label='Red Channel', marker='.')\n",
        "    plt.plot(range(1, N_COMPONENTS + 1), cum_g, label='Green Channel', marker='.')\n",
        "    plt.plot(range(1, N_COMPONENTS + 1), cum_b, label='Blue Channel', marker='.')\n",
        "    \n",
        "    plt.title('Cumulative Explained Variance by Principal Components')\n",
        "    plt.xlabel('Number of Components')\n",
        "    plt.ylabel('Cumulative Explained Variance Ratio')\n",
        "    plt.grid(True)\n",
        "    plt.legend()\n",
        "    plt.show()\n",
        "    \n",
        "plot_explained_variance(pca_r, pca_g, pca_b)\n",
        "\n",
        "# Report total variance captured by N_COMPONENTS\n",
        "print(f\"Total Variance Captured by {N_COMPONENTS} Components:\")\n",
        "print(f\"  Red Channel: {np.cumsum(pca_r.explained_variance_ratio_)[-1]*100:.2f}%\")\n",
        "print(f\"  Green Channel: {np.cumsum(pca_g.explained_variance_ratio_)[-1]*100:.2f}%\")\n",
        "print(f\"  Blue Channel: {np.cumsum(pca_b.explained_variance_ratio_)[-1]*100:.2f}%\")"
      ]
    },
    {
      "cell_type": "markdown",
      "source": [
        "## 5. Visualization of Color Eigenfaces\n",
        "\n",
        "The Eigenfaces are the principal components (eigenvectors) reshaped back into the original image dimensions. To visualize a color Eigenface, we stack the corresponding principal components from the R, G, and B channels."
      ]
    },
    {
      "cell_type": "code",
      "execution_count": null,
      "metadata": {},
      "outputs": [],
      "source": [
        "def normalize_and_reshape(component):\n",
        "    \"\"\"Normalizes a flattened component vector to 0-1 and reshapes to (64, 64).\"\"\"\n",
        "    # Reshape the component (4096,) back to (64, 64)\n",
        "    eigenface = component.reshape(RESIZE_DIM)\n",
        "    # Normalize between 0 and 1 for display\n",
        "    eigenface = (eigenface - eigenface.min()) / (eigenface.max() - eigenface.min())\n",
        "    return eigenface\n",
        "\n",
        "plt.figure(figsize=(10, N_EIGENFACES_TO_PLOT * 0.7))\n",
        "plt.suptitle(f'Top {N_EIGENFACES_TO_PLOT} Color Eigenfaces ({RESIZE_DIM[0]}x{RESIZE_DIM[1]})', fontsize=16)\n",
        "\n",
        "for i in range(N_EIGENFACES_TO_PLOT):\n",
        "    # 1. Get the i-th component from each channel\n",
        "    r_comp = components_r[i]\n",
        "    g_comp = components_g[i]\n",
        "    b_comp = components_b[i]\n",
        "    \n",
        "    # 2. Normalize and reshape each channel component\n",
        "    r_eigenface = normalize_and_reshape(r_comp)\n",
        "    g_eigenface = normalize_and_reshape(g_comp)\n",
        "    b_eigenface = normalize_and_reshape(b_comp)\n",
        "    \n",
        "    # 3. Stack the channels to create a color image (64, 64, 3)\n",
        "    color_eigenface = np.stack((r_eigenface, g_eigenface, b_eigenface), axis=-1)\n",
        "    \n",
        "    # 4. Plot\n",
        "    ax = plt.subplot(N_EIGENFACES_TO_PLOT // 2, 2, i + 1)\n",
        "    ax.imshow(color_eigenface)\n",
        "    ax.set_title(f'Eigenface {i+1}')\n",
        "    ax.axis('off')\n",
        "\n",
        "plt.tight_layout(rect=[0, 0.03, 1, 0.95])\n",
        "plt.show()"
      ]
    },
    {
      "cell_type": "markdown",
      "source": [
        "## 6. Image Reconstruction\n",
        "\n",
        "Finally, we demonstrate the utility of Eigenfaces by compressing and reconstructing an image using only the top $k$ principal components. The closeness of the reconstructed image to the original shows how much information is captured by the reduced basis."
      ]
    },
    {
      "cell_type": "code",
      "execution_count": null,
      "metadata": {},
      "outputs": [],
      "source": [
        "def reconstruct_image(data, pca_model, mean_vector, original_image_index=0):\n",
        "    \"\"\"Projects an image onto the PCA subspace and reconstructs it.\"\"\"\n",
        "    # Select the target image (flattened channel data)\n",
        "    target_data = data[original_image_index:original_image_index+1]\n",
        "    \n",
        "    # 1. Project the data onto the Eigenface subspace (Compression)\n",
        "    # This gives the weight vector (N_images, N_components)\n",
        "    weights = pca_model.transform(target_data)\n",
        "    \n",
        "    # 2. Reconstruct the image from the weights (Decompression)\n",
        "    # pca_model.inverse_transform automatically adds the mean back\n",
        "    reconstructed_data = pca_model.inverse_transform(weights)\n",
        "    \n",
        "    # 3. Reshape back to image format (64, 64)\n",
        "    reconstructed_image = reconstructed_data.reshape(RESIZE_DIM)\n",
        "    \n",
        "    # Ensure pixel values are within the valid 0-255 range for display\n",
        "    reconstructed_image = np.clip(reconstructed_image, 0, 255).astype(np.uint8)\n",
        "    \n",
        "    return reconstructed_image\n",
        "\n",
        "IMAGE_TO_TEST = 0 # Index of the image to reconstruct\n",
        "\n",
        "# Perform reconstruction for all three channels\n",
        "reconstructed_r = reconstruct_image(R_data, pca_r, mean_r, IMAGE_TO_TEST)\n",
        "reconstructed_g = reconstruct_image(G_data, pca_g, mean_g, IMAGE_TO_TEST)\n",
        "reconstructed_b = reconstruct_image(B_data, pca_b, mean_b, IMAGE_TO_TEST)\n",
        "\n",
        "# Stack the results to get the final color image\n",
        "reconstructed_color_image = np.stack((reconstructed_r, reconstructed_g, reconstructed_b), axis=-1)\n",
        "original_color_image = original_images[IMAGE_TO_TEST]\n",
        "\n",
        "# Plotting the comparison\n",
        "plt.figure(figsize=(10, 5))\n",
        "plt.subplot(1, 2, 1)\n",
        "plt.imshow(original_color_image)\n",
        "plt.title('Original Image')\n",
        "plt.axis('off')\n",
        "\n",
        "plt.subplot(1, 2, 2)\n",
        "plt.imshow(reconstructed_color_image)\n",
        "plt.title(f'Reconstruction with {N_COMPONENTS} PCs')\n",
        "plt.axis('off')\n",
        "\n",
        "plt.show()"
      ]
    }
  ]
}